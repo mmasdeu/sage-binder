{
 "cells": [
  {
   "cell_type": "markdown",
   "metadata": {},
   "source": [
    "Abans d'entregar, assegureu-vos que tot el bloc funciona correctament. Primer, **reinicieu el kernel** (al menú, trieu Kernel$\\rightarrow$Restart) i després **executeu totes les cel·les** (al menú, trieu Cell$\\rightarrow$Run All).\n",
    "\n",
    "Assegureu-vos d'emplenar a tot arreu on digui `EL CODI AQUÍ` o \"LA RESPOSTA AQUÍ\", i també el vostre **NOM**, **COGNOMS** i **NIU** a sota:"
   ]
  },
  {
   "cell_type": "code",
   "execution_count": 1,
   "metadata": {},
   "outputs": [],
   "source": [
    "NOM = \"\"\n",
    "COGNOMS = \"\"\n",
    "NIU = \"\" # (7 dígits)"
   ]
  },
  {
   "cell_type": "markdown",
   "metadata": {},
   "source": [
    "---"
   ]
  },
  {
   "cell_type": "markdown",
   "metadata": {},
   "source": [
    "# Pràctica 1"
   ]
  },
  {
   "cell_type": "markdown",
   "metadata": {},
   "source": [
    "En aquesta pràctica ens familiaritzarem en l'ús de *Sage*. Algunes indicacions que ens poden ser útils:\n",
    "\n",
    "- `QQ`, `RR`, `CC` són els cossos dels racionals, reals i complexos. També podem treballar a l'anell `ZZ` dels enters, al `SR` (simbòlic), o cossos com `Qbar` (complexos algebraics) i `AA` (reals algebraics).\n",
    "- El *mètode* `.random_element()` ens retorna un element (pseudo-)aleatori de l'estructura que tinguem. Per exemple, `ZZ.random_element()` ens retornarà un element (pseudo-)aleatori dels enters.\n",
    "- Per descobrir noves comandes, podeu fer servir el tabulador `<Tab>` per completar els mètodes. Podem obtenir l'ajuda d'una funció o mètode afegint un interrogant al seu nom, com per exemple `ZZ.random_element?`.\n",
    "- La comanda `range` ens retorna una llista d'enters (mireu com funciona). També és útil la notació `[2,5,..17]`, que ens retornaria la llista `[2,5,8,11,14,17]` (enters en progressió aritmètica).\n",
    "- Podeu investigar com funciona la creació de llistes \"compreses\" (*list comprehension* en anglès).\n",
    "- `Matrix(F, n, m, llista_entrades)` construeix una matriu $n \\times m$ en el cos `F`, amb les entrades donades.\n",
    "- Per resoldre un sistema lineal d'equacions de la forma $Ax=b$, escrivim `A.solve_right(b)`.\n",
    "- Les funcions `plot` i `scatter_plot` ens permeten fer gràfiques. Estudieu com funcionen!"
   ]
  },
  {
   "cell_type": "markdown",
   "metadata": {
    "deletable": false,
    "editable": false,
    "nbgrader": {
     "cell_type": "markdown",
     "checksum": "9320d96132a99f75a68bdec134854737",
     "grade": false,
     "grade_id": "cell-f08f861b2c99756d",
     "locked": true,
     "schema_version": 3,
     "solution": false,
     "task": false
    }
   },
   "source": [
    "## Matrius i sistemes d'equacions"
   ]
  },
  {
   "cell_type": "markdown",
   "metadata": {},
   "source": [
    "Creeu una matriu $A$ de tamany $2\\times 3$ amb entrades racionals."
   ]
  },
  {
   "cell_type": "code",
   "execution_count": 2,
   "metadata": {
    "deletable": false,
    "nbgrader": {
     "cell_type": "code",
     "checksum": "5563627ffb00da4605a7f9adc6622289",
     "grade": false,
     "grade_id": "cell-3f528487c50a1454",
     "locked": false,
     "schema_version": 3,
     "solution": true,
     "task": false
    }
   },
   "outputs": [],
   "source": [
    "# ESCRIVIU EL CODI AQUÍ\n",
    "A = Matrix(QQ, 2, 3, [1,2,3,4,5,6]) # Escrivim les entrades en una llista, per files.\n",
    "A = Matrix(QQ, [[1,2,3],[4,5,6]]) # Escrivim una llista de llistes. Cada llista correspon a una columna. El tamany és opcional\n",
    "A = Matrix(QQ, 2, 3, 0) # Una possibilitat és crear la matriu 0, simplement posem un zero al lloc de les entrades.\n",
    "A = MatrixSpace(QQ, 2, 3).random_element() # Aquesta opció ens dona una matriu aleatòria \"del conjunt de matrius\"."
   ]
  },
  {
   "cell_type": "code",
   "execution_count": 3,
   "metadata": {
    "deletable": false,
    "editable": false,
    "nbgrader": {
     "cell_type": "code",
     "checksum": "4a9de67b02b96aa49bbbfbbe037aa5ad",
     "grade": true,
     "grade_id": "cell-60389b003eb9343d",
     "locked": true,
     "points": 1,
     "schema_version": 3,
     "solution": false,
     "task": false
    }
   },
   "outputs": [],
   "source": [
    "assert A.nrows() == 2\n",
    "assert A.ncols() == 3\n",
    "assert A.base_ring() == QQ"
   ]
  },
  {
   "cell_type": "markdown",
   "metadata": {
    "deletable": false,
    "editable": false,
    "nbgrader": {
     "cell_type": "markdown",
     "checksum": "18b733c5ed128649113efcc0b70ef7ee",
     "grade": false,
     "grade_id": "cell-daf576efbac30445",
     "locked": true,
     "schema_version": 3,
     "solution": false,
     "task": false
    }
   },
   "source": [
    "Creeu una matriu B de tamany 10 x 20 que tingui per entrades nombres enters aleatoris entre -5 i 5 (inclosos)."
   ]
  },
  {
   "cell_type": "code",
   "execution_count": 4,
   "metadata": {
    "deletable": false,
    "nbgrader": {
     "cell_type": "code",
     "checksum": "596a51b0b3b260ff08fd506577f3a745",
     "grade": false,
     "grade_id": "cell-a4735ea72523161f",
     "locked": false,
     "schema_version": 3,
     "solution": true,
     "task": false
    }
   },
   "outputs": [],
   "source": [
    "# ESCRIVIU EL CODI AQUÍ\n",
    "B = Matrix(10, 20, [ZZ.random_element(-5,6) for _ in range(10*20)]) # Observeu que -5,6 retorna enters entre -5 i 5 inclosos (però mai 6)"
   ]
  },
  {
   "cell_type": "code",
   "execution_count": 5,
   "metadata": {},
   "outputs": [],
   "source": [
    "# Una altra opció seria crear una matriu zero i després omplir-la amb un loop:\n",
    "B = Matrix(10, 20, 0)\n",
    "for i in range(10):\n",
    "    for j in range(20):\n",
    "        B[i, j] = ZZ.random_element(-5,6)"
   ]
  },
  {
   "cell_type": "code",
   "execution_count": 6,
   "metadata": {
    "deletable": false,
    "editable": false,
    "nbgrader": {
     "cell_type": "code",
     "checksum": "580230da2e3948ad04b11cb9281ad177",
     "grade": true,
     "grade_id": "cell-09020033e37be91d",
     "locked": true,
     "points": 1,
     "schema_version": 3,
     "solution": false,
     "task": false
    }
   },
   "outputs": [],
   "source": [
    "assert B.nrows() == 10\n",
    "assert B.ncols() == 20\n",
    "assert B.base_ring() == ZZ\n",
    "assert max(B[i,j] for i in range(10) for j in range(20)) == 5\n",
    "assert min(B[i,j] for i in range(10) for j in range(20)) == -5"
   ]
  },
  {
   "cell_type": "markdown",
   "metadata": {
    "deletable": false,
    "editable": false,
    "nbgrader": {
     "cell_type": "markdown",
     "checksum": "118a0baccc19fef4113f48bb371ff55a",
     "grade": false,
     "grade_id": "cell-ad5d9ecc0be77e3f",
     "locked": true,
     "schema_version": 3,
     "solution": false,
     "task": false
    }
   },
   "source": [
    "Creeu una matriu C de tamany 20 x 10 que tingui a l'entrada $(i,j)$ el valor $2i+j$. (la primera entrada és $3$)."
   ]
  },
  {
   "cell_type": "code",
   "execution_count": 7,
   "metadata": {
    "deletable": false,
    "nbgrader": {
     "cell_type": "code",
     "checksum": "41c20877dca05368f608ceb124e70532",
     "grade": false,
     "grade_id": "cell-60fa54e53526534d",
     "locked": false,
     "schema_version": 3,
     "solution": true,
     "task": false
    }
   },
   "outputs": [],
   "source": [
    "# ESCRIVIU EL CODI AQUÍ"
   ]
  },
  {
   "cell_type": "code",
   "execution_count": 8,
   "metadata": {
    "deletable": false,
    "nbgrader": {
     "cell_type": "code",
     "checksum": "4f15d8fba9a67e224c81e90244f63911",
     "grade": false,
     "grade_id": "cell-d41a5e37cd86815d",
     "locked": false,
     "schema_version": 3,
     "solution": true,
     "task": false
    }
   },
   "outputs": [],
   "source": [
    "# Una primera opció és el que s'anomena *comprehensive list*\n",
    "C = Matrix(ZZ, 20, 10, [2 * i + j for i in range(1, 21) for j in range(1, 11)])\n",
    "# També podem indexar a zero, però aleshores hem de recalcular la fórmula:\n",
    "C = Matrix(ZZ, 20, 10, [2 * (i+1) + (j+1) for i in range(20) for j in range(10)])"
   ]
  },
  {
   "cell_type": "markdown",
   "metadata": {
    "deletable": false,
    "editable": false,
    "nbgrader": {
     "cell_type": "markdown",
     "checksum": "10f5d76a7953e4dff68f952de7ae213d",
     "grade": false,
     "grade_id": "cell-f8116d0b19c9dabb",
     "locked": true,
     "schema_version": 3,
     "solution": false,
     "task": false
    }
   },
   "source": [
    "Calculeu la matriu $BC$ i trobeu-ne el rang (descobriu com fer-ho amb `SageMath`)."
   ]
  },
  {
   "cell_type": "code",
   "execution_count": 9,
   "metadata": {
    "deletable": false,
    "nbgrader": {
     "cell_type": "code",
     "checksum": "50d0d187492480bacd0fe9f9cb3427a8",
     "grade": false,
     "grade_id": "cell-0dafbd31995ed8e6",
     "locked": false,
     "schema_version": 3,
     "solution": true,
     "task": false
    }
   },
   "outputs": [],
   "source": [
    "# ESCRIVIU EL CODI AQUÍ\n",
    "producte = B * C\n",
    "r = producte.rank() # Podeu descobrir funcions començant a escriure el nom i fent servir TAB."
   ]
  },
  {
   "cell_type": "code",
   "execution_count": 10,
   "metadata": {
    "deletable": false,
    "editable": false,
    "nbgrader": {
     "cell_type": "code",
     "checksum": "2e7d80cae31f56daabab708df868a794",
     "grade": true,
     "grade_id": "cell-3d04e352a00ad1ac",
     "locked": true,
     "points": 1,
     "schema_version": 3,
     "solution": false,
     "task": false
    }
   },
   "outputs": [],
   "source": [
    "assert r in ZZ"
   ]
  },
  {
   "cell_type": "markdown",
   "metadata": {
    "deletable": false,
    "editable": false,
    "nbgrader": {
     "cell_type": "markdown",
     "checksum": "772006e731f01c7c36b8cd96c69edf20",
     "grade": false,
     "grade_id": "cell-89c2a0116d274afb",
     "locked": true,
     "schema_version": 3,
     "solution": false,
     "task": false
    }
   },
   "source": [
    "Creeu una matriu $H$ de tamany 15 x 15 amb entrades racionals que tingui un $1$ a l'entrada $(1,1)$, que tingui $1/2$ a les entrades $(1,2)$ i $(2,1)$, que tingui $1/3$ a les entrades $(1,3), (2,2), (3,1)$, i així successivament."
   ]
  },
  {
   "cell_type": "code",
   "execution_count": 11,
   "metadata": {
    "deletable": false,
    "nbgrader": {
     "cell_type": "code",
     "checksum": "b896cbb47ab18f0adafdb2ead1050ddc",
     "grade": true,
     "grade_id": "cell-aac7a2f279b92897",
     "locked": false,
     "points": 1,
     "schema_version": 3,
     "solution": true,
     "task": false
    }
   },
   "outputs": [],
   "source": [
    "H = Matrix(QQ,15,15,[1/(i+j+1) for i in range(15) for j in range(15)])"
   ]
  },
  {
   "cell_type": "markdown",
   "metadata": {
    "deletable": false,
    "editable": false,
    "nbgrader": {
     "cell_type": "markdown",
     "checksum": "47246798c4dc75cbbbc640508bf913c9",
     "grade": false,
     "grade_id": "cell-0eb2410c3a48955d",
     "locked": true,
     "points": 1,
     "schema_version": 3,
     "solution": false,
     "task": true
    }
   },
   "source": [
    "Calculeu la seva inversa $H^{-1}$ i comproveu que $H H^{-1} = H^{-1} H = \\text{Id}$."
   ]
  },
  {
   "cell_type": "code",
   "execution_count": 12,
   "metadata": {},
   "outputs": [],
   "source": [
    "Hinv = H**-1 # També podem escriure Hinv = H^-1 o Hinv = H^(-1)\n",
    "prod1 = H * Hinv\n",
    "prod2 = Hinv * H"
   ]
  },
  {
   "cell_type": "code",
   "execution_count": 13,
   "metadata": {},
   "outputs": [
    {
     "name": "stdout",
     "output_type": "stream",
     "text": [
      "0.0\n",
      "0.0\n"
     ]
    }
   ],
   "source": [
    "# Una manera de comprovar que obtenim la identitat és restant la identitat i mirant com de grans són les entrades.\n",
    "# La funció `norm` retorna la norma de la matriu, que és l'arrel quadrada de la suma dels quadrats de les entrades.\n",
    "# Mireu la documentació de la funció per veure què fa, i exemples.\n",
    "print((prod1 - 1).norm())\n",
    "print((prod2 - 1).norm())"
   ]
  },
  {
   "cell_type": "markdown",
   "metadata": {
    "deletable": false,
    "editable": false,
    "nbgrader": {
     "cell_type": "markdown",
     "checksum": "9aebe6aecec57b8f3b386ccb633abee9",
     "grade": false,
     "grade_id": "cell-7a09bf85c4d9c95a",
     "locked": true,
     "points": 1,
     "schema_version": 3,
     "solution": false,
     "task": true
    }
   },
   "source": [
    "Repetiu el mateix càlcul però inicialitzant $H$ com una matriu en els reals (`RR`). Què observeu?"
   ]
  },
  {
   "cell_type": "code",
   "execution_count": 14,
   "metadata": {},
   "outputs": [],
   "source": [
    "HR = H.change_ring(RR) # En compte de reinicialitzar H, podem canviar on viuen les entrades\n",
    "HRinv = H**-1\n",
    "prod1 = HR * HRinv\n",
    "prod2 = HRinv * HR"
   ]
  },
  {
   "cell_type": "code",
   "execution_count": 15,
   "metadata": {},
   "outputs": [
    {
     "name": "stdout",
     "output_type": "stream",
     "text": [
      "7362.647372676577\n",
      "7362.647372676577\n"
     ]
    }
   ],
   "source": [
    "print((prod1-1).norm())\n",
    "print((prod2-1).norm())"
   ]
  },
  {
   "cell_type": "markdown",
   "metadata": {},
   "source": [
    "Observem que la norma queda molt lluny de zero! Això vol dir que no hem pogut calcular la inversa de manera correcta. És una avís que els càlculs aproximats poden donar lloc a resultats molt lluny de la realitat. Sempre que poguem, farem els càlculs exactes."
   ]
  },
  {
   "cell_type": "markdown",
   "metadata": {
    "deletable": false,
    "editable": false,
    "nbgrader": {
     "cell_type": "markdown",
     "checksum": "682a21875d45682dc1e663ebf2a64f5f",
     "grade": false,
     "grade_id": "cell-72c276e4265600e4",
     "locked": true,
     "schema_version": 3,
     "solution": false,
     "task": false
    }
   },
   "source": [
    "Trobeu totes les solucions del sistema: (1.1.14)\n",
    "\\begin{eqnarray}\n",
    "x + 4y + z &= 0\\\\\n",
    "4x+13y+7z &= 0\\\\\n",
    "7x+22y+13z&=1.\n",
    "\\end{eqnarray}"
   ]
  },
  {
   "cell_type": "code",
   "execution_count": 16,
   "metadata": {},
   "outputs": [
    {
     "name": "stdout",
     "output_type": "stream",
     "text": [
      "2\n"
     ]
    }
   ],
   "source": [
    "# Inicialitzem les matrius del sistema i mirem els rangs\n",
    "A = Matrix(QQ,3,3, [1,4,1,4,13,7,7,22,13])\n",
    "b = Matrix(QQ,3,1,[0,0,1])\n",
    "print(A.rank())"
   ]
  },
  {
   "cell_type": "code",
   "execution_count": 17,
   "metadata": {},
   "outputs": [
    {
     "name": "stdout",
     "output_type": "stream",
     "text": [
      "3\n"
     ]
    }
   ],
   "source": [
    "print(A.augment(b).rank())"
   ]
  },
  {
   "cell_type": "markdown",
   "metadata": {},
   "source": [
    "Com que el rang d'A i el de l'augmentada amb b no coincideixen, el sistema és incompatible"
   ]
  },
  {
   "cell_type": "code",
   "execution_count": 18,
   "metadata": {
    "deletable": false,
    "nbgrader": {
     "cell_type": "code",
     "checksum": "4b5ae7c5da4d2991aa2c9e65d353dad7",
     "grade": false,
     "grade_id": "cell-6c5309f1eb6d74d8",
     "locked": false,
     "schema_version": 3,
     "solution": true,
     "task": false
    }
   },
   "outputs": [],
   "source": [
    "# ESCRIVIU EL CODI AQUÍ\n",
    "solucions = [] # La llista buida ja és la resposta correcta: no hi ha solucions!"
   ]
  },
  {
   "cell_type": "markdown",
   "metadata": {
    "deletable": false,
    "editable": false,
    "nbgrader": {
     "cell_type": "markdown",
     "checksum": "40b57400c7abc51dcee8c28fa036f41a",
     "grade": false,
     "grade_id": "cell-16475e40d7d298e6",
     "locked": true,
     "schema_version": 3,
     "solution": false,
     "task": false
    }
   },
   "source": [
    "Trobeu totes les solucions del sistema: (1.1.17)\n",
    "\\begin{eqnarray}\n",
    "x + 2y &= a\\\\\n",
    "3x + 5y &= b.\n",
    "\\end{eqnarray}"
   ]
  },
  {
   "cell_type": "code",
   "execution_count": 19,
   "metadata": {
    "deletable": false,
    "nbgrader": {
     "cell_type": "code",
     "checksum": "cff9cd7e433a121870b9cd4a2438e568",
     "grade": false,
     "grade_id": "cell-37ea2fbb801dd03f",
     "locked": false,
     "schema_version": 3,
     "solution": true,
     "task": false
    }
   },
   "outputs": [
    {
     "data": {
      "text/plain": [
       "[-5*a + 2*b]\n",
       "[   3*a - b]"
      ]
     },
     "execution_count": 19,
     "metadata": {},
     "output_type": "execute_result"
    }
   ],
   "source": [
    "# ESCRIVIU EL CODI AQUÍ\n",
    "# A X = t\n",
    "var('a', 'b')\n",
    "A = Matrix(SR,2,2,[1,2,3,5]) # SR vol dir \"symbolic ring\"\n",
    "t = Matrix(SR,2,1,[a,b])\n",
    "A.solve_right(t)"
   ]
  },
  {
   "cell_type": "code",
   "execution_count": 20,
   "metadata": {},
   "outputs": [
    {
     "data": {
      "text/plain": [
       "[-5*a + 2*b]\n",
       "[   3*a - b]"
      ]
     },
     "execution_count": 20,
     "metadata": {},
     "output_type": "execute_result"
    }
   ],
   "source": [
    "# També podem treballar amb fracions de polinomis amb variables a i b\n",
    "R = QQ['a','b']\n",
    "a, b = R.gens()\n",
    "# També podem definir R i a, b a la vegada com:\n",
    "R.<a, b> = PolynomialRing(QQ)\n",
    "A = Matrix(R,2,2,[1,2,3,5])\n",
    "t = Matrix(R,2,1,[a,b])\n",
    "A.solve_right(t)"
   ]
  },
  {
   "cell_type": "code",
   "execution_count": 21,
   "metadata": {},
   "outputs": [],
   "source": [
    "# Ull! Millor evitar la comanda 'solve' !"
   ]
  },
  {
   "cell_type": "code",
   "execution_count": 22,
   "metadata": {},
   "outputs": [],
   "source": [
    "solucions = [A.solve_right(t)]"
   ]
  },
  {
   "cell_type": "code",
   "execution_count": 23,
   "metadata": {
    "deletable": false,
    "editable": false,
    "nbgrader": {
     "cell_type": "code",
     "checksum": "334f0fa132fab244b055bf0449c2065e",
     "grade": true,
     "grade_id": "cell-618557e47205c771",
     "locked": true,
     "points": 1,
     "schema_version": 3,
     "solution": false,
     "task": false
    }
   },
   "outputs": [],
   "source": [
    "assert len(solucions) == 1"
   ]
  },
  {
   "cell_type": "markdown",
   "metadata": {
    "deletable": false,
    "editable": false,
    "nbgrader": {
     "cell_type": "markdown",
     "checksum": "cb656464c011558c7d98e49d97f5a0da",
     "grade": false,
     "grade_id": "cell-e4117418d19ae33b",
     "locked": true,
     "points": 1,
     "schema_version": 3,
     "solution": false,
     "task": true
    }
   },
   "source": [
    "Discutiu el següent sistema, segons el valor del paràmetre $k$. (1.1.20)\n",
    "\\begin{eqnarray}\n",
    "x + y - z &= 2\\\\\n",
    "x + 2y + z &= 3\\\\\n",
    "x+ y + (k^2-5)z &= k.\n",
    "\\end{eqnarray}"
   ]
  },
  {
   "cell_type": "code",
   "execution_count": 24,
   "metadata": {},
   "outputs": [
    {
     "name": "stdout",
     "output_type": "stream",
     "text": [
      "3\n",
      "3\n"
     ]
    }
   ],
   "source": [
    "var('k')\n",
    "A = Matrix(SR,3,3,[1, 1, -1, 1, 2, 1, 1, 1, (k^2-5)])\n",
    "b = Matrix(SR,3,1, [2,3,k])\n",
    "print(A.rank())\n",
    "print(A.augment(b).rank())"
   ]
  },
  {
   "cell_type": "markdown",
   "metadata": {},
   "source": [
    "Observem que el el sistema sembla compatible determinat. Busquem la solució"
   ]
  },
  {
   "cell_type": "code",
   "execution_count": 25,
   "metadata": {},
   "outputs": [
    {
     "data": {
      "text/plain": [
       "[ 3*(k - 2)/(k^2 - 4) + 1]\n",
       "[-2*(k - 2)/(k^2 - 4) + 1]\n",
       "[       (k - 2)/(k^2 - 4)]"
      ]
     },
     "execution_count": 25,
     "metadata": {},
     "output_type": "execute_result"
    }
   ],
   "source": [
    "A.solve_right(b)"
   ]
  },
  {
   "cell_type": "markdown",
   "metadata": {},
   "source": [
    "Es pot simplificar l'expressió, aplicant la funció `simplify_rational` a les seves entrades. La funció `apply_map` canvia les entrades d'una matriu pel resultat d'aplicar la funció espeficicada. Com que volem aplicar una funció que a cada entrada `o` li faci `o.simplify_rational()`, podem definir una funció directament amb la comanda `lambda`."
   ]
  },
  {
   "cell_type": "code",
   "execution_count": 26,
   "metadata": {},
   "outputs": [
    {
     "data": {
      "text/plain": [
       "[(k + 5)/(k + 2)]\n",
       "[      k/(k + 2)]\n",
       "[      1/(k + 2)]"
      ]
     },
     "execution_count": 26,
     "metadata": {},
     "output_type": "execute_result"
    }
   ],
   "source": [
    "A.solve_right(b).apply_map(lambda o : o.simplify_rational())"
   ]
  },
  {
   "cell_type": "code",
   "execution_count": 27,
   "metadata": {},
   "outputs": [
    {
     "data": {
      "text/plain": [
       "[(k + 5)/(k + 2)]\n",
       "[      k/(k + 2)]\n",
       "[      1/(k + 2)]"
      ]
     },
     "execution_count": 27,
     "metadata": {},
     "output_type": "execute_result"
    }
   ],
   "source": [
    "# El codi anterior és equivalent a:\n",
    "def f(o):\n",
    "    return o.simplify_rational()\n",
    "A.solve_right(b).apply_map(f)"
   ]
  },
  {
   "cell_type": "markdown",
   "metadata": {},
   "source": [
    "Fixem-nos que hi ha un denominador de $k^2-4$. Això pot ser un problema quan $k=\\pm 2$."
   ]
  },
  {
   "cell_type": "code",
   "execution_count": 28,
   "metadata": {},
   "outputs": [
    {
     "name": "stdout",
     "output_type": "stream",
     "text": [
      "2\n",
      "2\n"
     ]
    }
   ],
   "source": [
    "print(A(k=2).rank())\n",
    "print(A(k=2).augment(b(k=2)).rank())"
   ]
  },
  {
   "cell_type": "code",
   "execution_count": 29,
   "metadata": {},
   "outputs": [
    {
     "name": "stdout",
     "output_type": "stream",
     "text": [
      "2\n",
      "3\n"
     ]
    }
   ],
   "source": [
    "print(A(k=-2).rank())\n",
    "print(A(k=-2).augment(b(k=-2)).rank())"
   ]
  },
  {
   "cell_type": "code",
   "execution_count": 30,
   "metadata": {},
   "outputs": [
    {
     "data": {
      "text/plain": [
       "[ 1  0 -3  1]\n",
       "[ 0  1  2  1]\n",
       "[ 0  0  0  0]"
      ]
     },
     "execution_count": 30,
     "metadata": {},
     "output_type": "execute_result"
    }
   ],
   "source": [
    "A.augment(b)(k=2).rref()"
   ]
  },
  {
   "cell_type": "code",
   "execution_count": 31,
   "metadata": {},
   "outputs": [
    {
     "data": {
      "text/plain": [
       "[ 1  0 -3  0]\n",
       "[ 0  1  2  0]\n",
       "[ 0  0  0  1]"
      ]
     },
     "execution_count": 31,
     "metadata": {},
     "output_type": "execute_result"
    }
   ],
   "source": [
    "A.augment(b)(k=-2).rref()"
   ]
  },
  {
   "cell_type": "markdown",
   "metadata": {},
   "source": [
    "Observem que per $k=-2$ el sistema és incompatible. Per $k=2$ és compatible indeterminat. Per la resta de $k$, és compatible determinat i hem trobat la solució més enrere."
   ]
  },
  {
   "cell_type": "markdown",
   "metadata": {
    "deletable": false,
    "editable": false,
    "nbgrader": {
     "cell_type": "markdown",
     "checksum": "7847ad76a81dacf8c078e043a6e82047",
     "grade": false,
     "grade_id": "cell-ed23b113a4273a24",
     "locked": true,
     "points": 1,
     "schema_version": 3,
     "solution": false,
     "task": true
    }
   },
   "source": [
    "Resoleu el següent sistema d'equacions, realitzant a mà (fent servir els mètodes `rescale_row`, `add_multiple_of_row` i/o `swap_rows`) les transformacions de files. (1.2.17)\n",
    "\\begin{eqnarray}\n",
    " 2x_1 + 4x_2 + 3x_3 + 5x_4 + 6x_5 &= 37\\\\\n",
    " 4x_1 + 8x_2 + 7x_3 + 5x_4 + 2x_5 &= 74\\\\\n",
    "-2x_1 - 4x_2 + 3x_3 + 4x_4 - 5x_5 &= 20\\\\\n",
    "  x_1 + 2x_2 + 2x_3 -  x_4 + 2x_5 &= 26\\\\\n",
    " 5x_1 - 10x_2 +4x_3 + 6x_4 + 4x_5 &= 24.\n",
    "\\end{eqnarray}"
   ]
  },
  {
   "cell_type": "code",
   "execution_count": 32,
   "metadata": {},
   "outputs": [],
   "source": [
    "A = Matrix(QQ, [[2, 4, 3, 5, 6],[4, 8, 7, 5, 2],[-2, -4, 3, 4, -5],[1, 2, 2, -1, 2],[5, -10, 4, 6, 4]])\n",
    "b = Matrix(5, 1, [37,74, 20, 26, 24])"
   ]
  },
  {
   "cell_type": "code",
   "execution_count": 33,
   "metadata": {},
   "outputs": [
    {
     "data": {
      "text/plain": [
       "[  2   4   3   5   6| 37]\n",
       "[  4   8   7   5   2| 74]\n",
       "[ -2  -4   3   4  -5| 20]\n",
       "[  1   2   2  -1   2| 26]\n",
       "[  5 -10   4   6   4| 24]"
      ]
     },
     "execution_count": 33,
     "metadata": {},
     "output_type": "execute_result"
    }
   ],
   "source": [
    "Ab = A.augment(b,subdivide=True); Ab"
   ]
  },
  {
   "cell_type": "code",
   "execution_count": 34,
   "metadata": {},
   "outputs": [
    {
     "data": {
      "text/plain": [
       "[  1   2   2  -1   2| 26]\n",
       "[  4   8   7   5   2| 74]\n",
       "[ -2  -4   3   4  -5| 20]\n",
       "[  2   4   3   5   6| 37]\n",
       "[  5 -10   4   6   4| 24]"
      ]
     },
     "execution_count": 34,
     "metadata": {},
     "output_type": "execute_result"
    }
   ],
   "source": [
    "Ab.swap_rows(0,3); Ab"
   ]
  },
  {
   "cell_type": "code",
   "execution_count": 35,
   "metadata": {},
   "outputs": [
    {
     "data": {
      "text/plain": [
       "[  1   2   2  -1   2| 26]\n",
       "[  0   0  -1   9  -6|-30]\n",
       "[ -2  -4   3   4  -5| 20]\n",
       "[  2   4   3   5   6| 37]\n",
       "[  5 -10   4   6   4| 24]"
      ]
     },
     "execution_count": 35,
     "metadata": {},
     "output_type": "execute_result"
    }
   ],
   "source": [
    "Ab.add_multiple_of_row(1,0,-4); Ab"
   ]
  },
  {
   "cell_type": "code",
   "execution_count": 36,
   "metadata": {},
   "outputs": [
    {
     "data": {
      "text/plain": [
       "[  1   2   2  -1   2| 26]\n",
       "[  0   0  -1   9  -6|-30]\n",
       "[  0   0   7   2  -1| 72]\n",
       "[  2   4   3   5   6| 37]\n",
       "[  5 -10   4   6   4| 24]"
      ]
     },
     "execution_count": 36,
     "metadata": {},
     "output_type": "execute_result"
    }
   ],
   "source": [
    "Ab.add_multiple_of_row(2,0,2); Ab"
   ]
  },
  {
   "cell_type": "code",
   "execution_count": 37,
   "metadata": {},
   "outputs": [
    {
     "data": {
      "text/plain": [
       "[  1   2   2  -1   2| 26]\n",
       "[  0   0  -1   9  -6|-30]\n",
       "[  0   0   7   2  -1| 72]\n",
       "[  0   0  -1   7   2|-15]\n",
       "[  5 -10   4   6   4| 24]"
      ]
     },
     "execution_count": 37,
     "metadata": {},
     "output_type": "execute_result"
    }
   ],
   "source": [
    "Ab.add_multiple_of_row(3,0,-2); Ab"
   ]
  },
  {
   "cell_type": "code",
   "execution_count": 38,
   "metadata": {},
   "outputs": [
    {
     "data": {
      "text/plain": [
       "[   1    2    2   -1    2|  26]\n",
       "[   0    0   -1    9   -6| -30]\n",
       "[   0    0    7    2   -1|  72]\n",
       "[   0    0   -1    7    2| -15]\n",
       "[   0  -20   -6   11   -6|-106]"
      ]
     },
     "execution_count": 38,
     "metadata": {},
     "output_type": "execute_result"
    }
   ],
   "source": [
    "Ab.add_multiple_of_row(4,0,-5); Ab"
   ]
  },
  {
   "cell_type": "code",
   "execution_count": 39,
   "metadata": {},
   "outputs": [
    {
     "data": {
      "text/plain": [
       "[   1    2    2   -1    2|  26]\n",
       "[   0  -20   -6   11   -6|-106]\n",
       "[   0    0    7    2   -1|  72]\n",
       "[   0    0   -1    7    2| -15]\n",
       "[   0    0   -1    9   -6| -30]"
      ]
     },
     "execution_count": 39,
     "metadata": {},
     "output_type": "execute_result"
    }
   ],
   "source": [
    "Ab.swap_rows(1,4); Ab"
   ]
  },
  {
   "cell_type": "code",
   "execution_count": 40,
   "metadata": {},
   "outputs": [
    {
     "data": {
      "text/plain": [
       "[     1      2      2     -1      2|    26]\n",
       "[     0      1   3/10 -11/20   3/10| 53/10]\n",
       "[     0      0      7      2     -1|    72]\n",
       "[     0      0     -1      7      2|   -15]\n",
       "[     0      0     -1      9     -6|   -30]"
      ]
     },
     "execution_count": 40,
     "metadata": {},
     "output_type": "execute_result"
    }
   ],
   "source": [
    "Ab.rescale_row(1, 1/(-20)); Ab"
   ]
  },
  {
   "cell_type": "code",
   "execution_count": 41,
   "metadata": {},
   "outputs": [
    {
     "data": {
      "text/plain": [
       "[     1      2      2     -1      2|    26]\n",
       "[     0      1   3/10 -11/20   3/10| 53/10]\n",
       "[     0      0      1    2/7   -1/7|  72/7]\n",
       "[     0      0     -1      7      2|   -15]\n",
       "[     0      0     -1      9     -6|   -30]"
      ]
     },
     "execution_count": 41,
     "metadata": {},
     "output_type": "execute_result"
    }
   ],
   "source": [
    "Ab.rescale_row(2,1/7); Ab"
   ]
  },
  {
   "cell_type": "code",
   "execution_count": 42,
   "metadata": {},
   "outputs": [
    {
     "data": {
      "text/plain": [
       "[     1      2      2     -1      2|    26]\n",
       "[     0      1   3/10 -11/20   3/10| 53/10]\n",
       "[     0      0      1    2/7   -1/7|  72/7]\n",
       "[     0      0      0   51/7   13/7| -33/7]\n",
       "[     0      0     -1      9     -6|   -30]"
      ]
     },
     "execution_count": 42,
     "metadata": {},
     "output_type": "execute_result"
    }
   ],
   "source": [
    "Ab.add_multiple_of_row(3,2,1); Ab"
   ]
  },
  {
   "cell_type": "code",
   "execution_count": 43,
   "metadata": {},
   "outputs": [
    {
     "data": {
      "text/plain": [
       "[     1      2      2     -1      2|    26]\n",
       "[     0      1   3/10 -11/20   3/10| 53/10]\n",
       "[     0      0      1    2/7   -1/7|  72/7]\n",
       "[     0      0      0   51/7   13/7| -33/7]\n",
       "[     0      0      0   65/7  -43/7|-138/7]"
      ]
     },
     "execution_count": 43,
     "metadata": {},
     "output_type": "execute_result"
    }
   ],
   "source": [
    "Ab.add_multiple_of_row(4,2,1); Ab"
   ]
  },
  {
   "cell_type": "code",
   "execution_count": 44,
   "metadata": {},
   "outputs": [
    {
     "data": {
      "text/plain": [
       "[     1      2      2     -1      2|    26]\n",
       "[     0      1   3/10 -11/20   3/10| 53/10]\n",
       "[     0      0      1    2/7   -1/7|  72/7]\n",
       "[     0      0      0      1  13/51|-11/17]\n",
       "[     0      0      0   65/7  -43/7|-138/7]"
      ]
     },
     "execution_count": 44,
     "metadata": {},
     "output_type": "execute_result"
    }
   ],
   "source": [
    "Ab.rescale_row(3,7/51); Ab"
   ]
  },
  {
   "cell_type": "code",
   "execution_count": 45,
   "metadata": {},
   "outputs": [
    {
     "data": {
      "text/plain": [
       "[      1       2       2      -1       2|     26]\n",
       "[      0       1    3/10  -11/20    3/10|  53/10]\n",
       "[      0       0       1     2/7    -1/7|   72/7]\n",
       "[      0       0       0       1   13/51| -11/17]\n",
       "[      0       0       0       0 -434/51|-233/17]"
      ]
     },
     "execution_count": 45,
     "metadata": {},
     "output_type": "execute_result"
    }
   ],
   "source": [
    "Ab.add_multiple_of_row(4,3,-65/7); Ab"
   ]
  },
  {
   "cell_type": "code",
   "execution_count": 46,
   "metadata": {},
   "outputs": [
    {
     "data": {
      "text/plain": [
       "[      1       2       2      -1       2|     26]\n",
       "[      0       1    3/10  -11/20    3/10|  53/10]\n",
       "[      0       0       1     2/7    -1/7|   72/7]\n",
       "[      0       0       0       1   13/51| -11/17]\n",
       "[      0       0       0       0       1|699/434]"
      ]
     },
     "execution_count": 46,
     "metadata": {},
     "output_type": "execute_result"
    }
   ],
   "source": [
    "Ab.rescale_row(4,51/-434); Ab"
   ]
  },
  {
   "cell_type": "code",
   "execution_count": 47,
   "metadata": {},
   "outputs": [
    {
     "data": {
      "text/plain": [
       "[       1        2        2       -1        2|      26]\n",
       "[       0        1     3/10   -11/20     3/10|   53/10]\n",
       "[       0        0        1      2/7     -1/7|    72/7]\n",
       "[       0        0        0        1        0|-459/434]\n",
       "[       0        0        0        0        1| 699/434]"
      ]
     },
     "execution_count": 47,
     "metadata": {},
     "output_type": "execute_result"
    }
   ],
   "source": [
    "Ab.add_multiple_of_row(3,4,-13/51); Ab"
   ]
  },
  {
   "cell_type": "code",
   "execution_count": 48,
   "metadata": {},
   "outputs": [
    {
     "data": {
      "text/plain": [
       "[         1          2          2         -1          2|        26]\n",
       "[         0          1       3/10     -11/20       3/10|     53/10]\n",
       "[         0          0          1        2/7          0|31947/3038]\n",
       "[         0          0          0          1          0|  -459/434]\n",
       "[         0          0          0          0          1|   699/434]"
      ]
     },
     "execution_count": 48,
     "metadata": {},
     "output_type": "execute_result"
    }
   ],
   "source": [
    "Ab.add_multiple_of_row(2,4,1/7); Ab"
   ]
  },
  {
   "cell_type": "code",
   "execution_count": 49,
   "metadata": {},
   "outputs": [
    {
     "data": {
      "text/plain": [
       "[         1          2          2         -1          2|        26]\n",
       "[         0          1       3/10     -11/20          0|  4181/868]\n",
       "[         0          0          1        2/7          0|31947/3038]\n",
       "[         0          0          0          1          0|  -459/434]\n",
       "[         0          0          0          0          1|   699/434]"
      ]
     },
     "execution_count": 49,
     "metadata": {},
     "output_type": "execute_result"
    }
   ],
   "source": [
    "Ab.add_multiple_of_row(1,4,-3/10); Ab"
   ]
  },
  {
   "cell_type": "code",
   "execution_count": 50,
   "metadata": {},
   "outputs": [
    {
     "data": {
      "text/plain": [
       "[         1          2          2         -1          0|  4943/217]\n",
       "[         0          1       3/10     -11/20          0|  4181/868]\n",
       "[         0          0          1        2/7          0|31947/3038]\n",
       "[         0          0          0          1          0|  -459/434]\n",
       "[         0          0          0          0          1|   699/434]"
      ]
     },
     "execution_count": 50,
     "metadata": {},
     "output_type": "execute_result"
    }
   ],
   "source": [
    "Ab.add_multiple_of_row(0, 4, -2); Ab"
   ]
  },
  {
   "cell_type": "code",
   "execution_count": 51,
   "metadata": {},
   "outputs": [
    {
     "data": {
      "text/plain": [
       "[       1        2        2       -1        0|4943/217]\n",
       "[       0        1     3/10   -11/20        0|4181/868]\n",
       "[       0        0        1        0        0|4695/434]\n",
       "[       0        0        0        1        0|-459/434]\n",
       "[       0        0        0        0        1| 699/434]"
      ]
     },
     "execution_count": 51,
     "metadata": {},
     "output_type": "execute_result"
    }
   ],
   "source": [
    "Ab.add_multiple_of_row(2, 3, -2/7); Ab"
   ]
  },
  {
   "cell_type": "code",
   "execution_count": 52,
   "metadata": {},
   "outputs": [
    {
     "data": {
      "text/plain": [
       "[         1          2          2         -1          0|  4943/217]\n",
       "[         0          1       3/10          0          0|36761/8680]\n",
       "[         0          0          1          0          0|  4695/434]\n",
       "[         0          0          0          1          0|  -459/434]\n",
       "[         0          0          0          0          1|   699/434]"
      ]
     },
     "execution_count": 52,
     "metadata": {},
     "output_type": "execute_result"
    }
   ],
   "source": [
    "Ab.add_multiple_of_row(1, 3, 11/20); Ab"
   ]
  },
  {
   "cell_type": "code",
   "execution_count": 53,
   "metadata": {},
   "outputs": [
    {
     "data": {
      "text/plain": [
       "[         1          2          2          0          0|  9427/434]\n",
       "[         0          1       3/10          0          0|36761/8680]\n",
       "[         0          0          1          0          0|  4695/434]\n",
       "[         0          0          0          1          0|  -459/434]\n",
       "[         0          0          0          0          1|   699/434]"
      ]
     },
     "execution_count": 53,
     "metadata": {},
     "output_type": "execute_result"
    }
   ],
   "source": [
    "Ab.add_multiple_of_row(0, 3, 1); Ab"
   ]
  },
  {
   "cell_type": "code",
   "execution_count": 54,
   "metadata": {},
   "outputs": [
    {
     "data": {
      "text/plain": [
       "[        1         2         2         0         0| 9427/434]\n",
       "[        0         1         0         0         0|8591/8680]\n",
       "[        0         0         1         0         0| 4695/434]\n",
       "[        0         0         0         1         0| -459/434]\n",
       "[        0         0         0         0         1|  699/434]"
      ]
     },
     "execution_count": 54,
     "metadata": {},
     "output_type": "execute_result"
    }
   ],
   "source": [
    "Ab.add_multiple_of_row(1, 2, -3/10); Ab"
   ]
  },
  {
   "cell_type": "code",
   "execution_count": 55,
   "metadata": {},
   "outputs": [
    {
     "data": {
      "text/plain": [
       "[        1         2         0         0         0|   37/434]\n",
       "[        0         1         0         0         0|8591/8680]\n",
       "[        0         0         1         0         0| 4695/434]\n",
       "[        0         0         0         1         0| -459/434]\n",
       "[        0         0         0         0         1|  699/434]"
      ]
     },
     "execution_count": 55,
     "metadata": {},
     "output_type": "execute_result"
    }
   ],
   "source": [
    "Ab.add_multiple_of_row(0,2, -2); Ab"
   ]
  },
  {
   "cell_type": "code",
   "execution_count": 56,
   "metadata": {},
   "outputs": [
    {
     "data": {
      "text/plain": [
       "[         1          0          0          0          0|-8221/4340]\n",
       "[         0          1          0          0          0| 8591/8680]\n",
       "[         0          0          1          0          0|  4695/434]\n",
       "[         0          0          0          1          0|  -459/434]\n",
       "[         0          0          0          0          1|   699/434]"
      ]
     },
     "execution_count": 56,
     "metadata": {},
     "output_type": "execute_result"
    }
   ],
   "source": [
    "Ab.add_multiple_of_row(0, 1, -2); Ab"
   ]
  },
  {
   "cell_type": "code",
   "execution_count": 57,
   "metadata": {},
   "outputs": [
    {
     "data": {
      "text/plain": [
       "(-8221/4340, 8591/8680, 4695/434, -459/434, 699/434)"
      ]
     },
     "execution_count": 57,
     "metadata": {},
     "output_type": "execute_result"
    }
   ],
   "source": [
    "# A.solve_right(b)\n",
    "Ab.column(-1) # Per prendre l'última columna, podem especificar o bé 5 o bé -1..."
   ]
  },
  {
   "cell_type": "markdown",
   "metadata": {
    "deletable": false,
    "editable": false,
    "nbgrader": {
     "cell_type": "markdown",
     "checksum": "7228142146852ecd00690b76a3d9cbd7",
     "grade": false,
     "grade_id": "cell-6a46c82d491dc7f0",
     "locked": true,
     "schema_version": 3,
     "solution": false,
     "task": false
    }
   },
   "source": [
    "Escriviu a sota la solució obtinguda"
   ]
  },
  {
   "cell_type": "code",
   "execution_count": 58,
   "metadata": {
    "deletable": false,
    "nbgrader": {
     "cell_type": "code",
     "checksum": "91d33739ea4a707f4592233eaac49bc3",
     "grade": false,
     "grade_id": "cell-ab43e03c24631594",
     "locked": false,
     "schema_version": 3,
     "solution": true,
     "task": false
    }
   },
   "outputs": [],
   "source": [
    "# ESCRIVIU EL CODI AQUÍ\n",
    "x1, x2, x3, x4, x5 = Ab.column(-1).list()"
   ]
  },
  {
   "cell_type": "code",
   "execution_count": 59,
   "metadata": {
    "deletable": false,
    "editable": false,
    "nbgrader": {
     "cell_type": "code",
     "checksum": "77d37d75bf53af5f5793df78f77ce931",
     "grade": true,
     "grade_id": "cell-3c9ba044359cec66",
     "locked": true,
     "points": 1,
     "schema_version": 3,
     "solution": false,
     "task": false
    }
   },
   "outputs": [],
   "source": [
    "assert x1 in QQ and x2 in QQ and x3 in QQ and x4 in QQ and x5 in QQ"
   ]
  },
  {
   "cell_type": "markdown",
   "metadata": {
    "deletable": false,
    "editable": false,
    "nbgrader": {
     "cell_type": "markdown",
     "checksum": "6c7dd0a129f47b984b7b2f6ad152965d",
     "grade": false,
     "grade_id": "cell-eddee025fb147991",
     "locked": true,
     "schema_version": 3,
     "solution": false,
     "task": false
    }
   },
   "source": [
    "## Interpolació amb polinomis"
   ]
  },
  {
   "cell_type": "markdown",
   "metadata": {
    "deletable": false,
    "editable": false,
    "nbgrader": {
     "cell_type": "markdown",
     "checksum": "00985ab9dba80845beafbb35b9bd0bea",
     "grade": false,
     "grade_id": "cell-849109044c6a4bba",
     "locked": true,
     "schema_version": 3,
     "solution": false,
     "task": false
    }
   },
   "source": [
    "Escriviu una funció que prengui com a entrada una llista de $n+1$ punts del pla $(x_i,y_i)$ i retorni un polinomi $p(x)$ de grau $n$ satisfent $p(x_i) = y_i$. Direm que $p(x)$ \"interpola\" els punts donats."
   ]
  },
  {
   "cell_type": "code",
   "execution_count": 60,
   "metadata": {
    "deletable": false,
    "nbgrader": {
     "cell_type": "code",
     "checksum": "7ba7bd3574d0074b0f69f8a26c680d97",
     "grade": true,
     "grade_id": "cell-3649f23529411f6f",
     "locked": false,
     "points": 1,
     "schema_version": 3,
     "solution": true,
     "task": false
    }
   },
   "outputs": [],
   "source": [
    "# point_list = [(a0, b0), (a1, b1), (a2, b2),... (an, bn)]\n",
    "def interpolate(point_list):\n",
    "    m = len(point_list) # m = n + 1 de l'enunciat\n",
    "    A = Matrix(RR, m, m, 0) # Matriu de zeros\n",
    "    b = Matrix(RR, m, 1, 0) # Matriu columna de zeros\n",
    "    for i, (x,y) in enumerate(point_list):\n",
    "        # Inicialitzo la fila i de les matrius A i b\n",
    "        b[i, 0] = y\n",
    "        xpow = 1\n",
    "        for j in range(m):\n",
    "            A[i, j] = xpow\n",
    "            xpow *= x # és el mateix que xpow = xpow * x\n",
    "    return PolynomialRing(RR,'t')(A.solve_right(b).list())"
   ]
  },
  {
   "cell_type": "code",
   "execution_count": 61,
   "metadata": {},
   "outputs": [],
   "source": [
    "v = [(0, 4), (1,3), (2, 10), (3,2), (5, 1)]\n",
    "p = interpolate(v)"
   ]
  },
  {
   "cell_type": "code",
   "execution_count": 62,
   "metadata": {},
   "outputs": [],
   "source": [
    "G = plot(p, xmin = -2, xmax = 6) + scatter_plot(v)"
   ]
  },
  {
   "cell_type": "code",
   "execution_count": 63,
   "metadata": {},
   "outputs": [
    {
     "data": {
      "image/png": "[encoded data removed]",
      "text/plain": [
       "Graphics object consisting of 2 graphics primitives"
      ]
     },
     "execution_count": 63,
     "metadata": {},
     "output_type": "execute_result"
    }
   ],
   "source": [
    "G"
   ]
  },
  {
   "cell_type": "markdown",
   "metadata": {
    "deletable": false,
    "editable": false,
    "nbgrader": {
     "cell_type": "markdown",
     "checksum": "7ce7331340b543156dcc4f82fa5a1d50",
     "grade": false,
     "grade_id": "cell-1efa84d58d42ae96",
     "locked": true,
     "schema_version": 3,
     "solution": false,
     "task": false
    }
   },
   "source": [
    "Escriviu una funció que prengui com entrada una funció matemàtica, un interval $[a, b]$ i un natural $n$ i retorni el polinomi interpolador de la funció en els $n+1$ punts resultant de dividir l'interval en $n$ subintervals d'igual longitud."
   ]
  },
  {
   "cell_type": "code",
   "execution_count": 64,
   "metadata": {
    "deletable": false,
    "nbgrader": {
     "cell_type": "code",
     "checksum": "9a030b3d8bd6d653bae30a3171013bad",
     "grade": true,
     "grade_id": "cell-b08b89c49e130db6",
     "locked": false,
     "points": 1,
     "schema_version": 3,
     "solution": true,
     "task": false
    }
   },
   "outputs": [],
   "source": [
    "'''\n",
    "f : funció\n",
    "a, b : extrems de l'interal\n",
    "n : enter positiu\n",
    "'''\n",
    "def interpolate_function(f, a, b, n):\n",
    "    h = (b - a) / n\n",
    "    llista = []\n",
    "    for i in range(n+1):\n",
    "        ai = a + i * h\n",
    "        bi = f(ai)\n",
    "        llista.append((ai, bi))\n",
    "    return interpolate(llista)"
   ]
  },
  {
   "cell_type": "markdown",
   "metadata": {
    "deletable": false,
    "editable": false,
    "nbgrader": {
     "cell_type": "markdown",
     "checksum": "0e1e2449595726418a8a05d18169abe1",
     "grade": false,
     "grade_id": "cell-8cf6e7050cb7e8d3",
     "locked": true,
     "points": 1,
     "schema_version": 3,
     "solution": false,
     "task": true
    }
   },
   "source": [
    "Grafiqueu a la vegada la funció $\\sin(x)$ i el polinomi interpolador de grau $n$ en l'interval $[-2\\pi, 2\\pi]$ per $n$ des de $1$ fins a $20$."
   ]
  },
  {
   "cell_type": "code",
   "execution_count": 65,
   "metadata": {},
   "outputs": [
    {
     "data": {
      "application/vnd.jupyter.widget-view+json": {
       "model_id": "4ab64b107f254a83877c35b6a102ce8b",
       "version_major": 2,
       "version_minor": 0
      },
      "text/plain": [
       "Interactive function <function myplot at 0x7f416b403280> with 1 widget\n",
       "  n: IntSlider(value=10, description='n…"
      ]
     },
     "metadata": {},
     "output_type": "display_data"
    }
   ],
   "source": [
    "a = -2*pi\n",
    "b = 2*pi\n",
    "x = QQ['x'].gen()\n",
    "def f(x):\n",
    "    return sin(x)\n",
    "p1 = plot(f, xmin=2*a, xmax=2*b, color = 'red')\n",
    "@interact\n",
    "def myplot(n = (1,20)):\n",
    "    p2 = plot(interpolate_function(f, a, b, n), xmin = 2*a, xmax = 2*b, color = 'blue')\n",
    "    p3 = scatter_plot([(a+i * (b-a)/n, f(a+i*(b-a)/n)) for i in range(n+1)],marker='.')\n",
    "    p = p1+p2+p3\n",
    "    p.axes_range(ymin=-2, ymax=2)\n",
    "    p.show()"
   ]
  },
  {
   "cell_type": "markdown",
   "metadata": {
    "deletable": false,
    "editable": false,
    "nbgrader": {
     "cell_type": "markdown",
     "checksum": "2fcdd64830377513df248fe7c28c1548",
     "grade": false,
     "grade_id": "cell-1c3ad3ca6058fa25",
     "locked": true,
     "points": 1,
     "schema_version": 3,
     "solution": false,
     "task": true
    }
   },
   "source": [
    "Feu el mateix per la funció $f(x)=\\frac{1}{1+25x^2}$, i l'interval $[-1, 1]$."
   ]
  },
  {
   "cell_type": "code",
   "execution_count": 66,
   "metadata": {},
   "outputs": [
    {
     "data": {
      "application/vnd.jupyter.widget-view+json": {
       "model_id": "7424460af68b4ee2bb35e773ad45e3a3",
       "version_major": 2,
       "version_minor": 0
      },
      "text/plain": [
       "Interactive function <function myplot at 0x7f416b4033a0> with 1 widget\n",
       "  n: IntSlider(value=10, description='n…"
      ]
     },
     "metadata": {},
     "output_type": "display_data"
    }
   ],
   "source": [
    "a = -1\n",
    "b = 1\n",
    "x = QQ['x'].gen()\n",
    "def f(x):\n",
    "    return 1/(1+25*x**2)\n",
    "p1 = plot(f, xmin=2*a, xmax=2*b, color = 'red')\n",
    "@interact\n",
    "def myplot(n = (1,20)):\n",
    "    p2 = plot(interpolate_function(f, a, b, n), xmin = 2*a, xmax = 2*b, color = 'blue')\n",
    "    p3 = scatter_plot([(a+i * (b-a)/n, f(a+i*(b-a)/n)) for i in range(n+1)],marker='.')\n",
    "    p = p1+p2+p3\n",
    "    p.axes_range(ymin=-2, ymax=2)\n",
    "    p.show()"
   ]
  },
  {
   "cell_type": "markdown",
   "metadata": {
    "deletable": false,
    "editable": false,
    "nbgrader": {
     "cell_type": "markdown",
     "checksum": "c95d3cd9674856d117740bdcbccea632",
     "grade": false,
     "grade_id": "cell-8c6022ac32a2add9",
     "locked": true,
     "schema_version": 3,
     "solution": false,
     "task": false
    }
   },
   "source": [
    "## Art amb matrius"
   ]
  },
  {
   "cell_type": "markdown",
   "metadata": {
    "deletable": false,
    "editable": false,
    "nbgrader": {
     "cell_type": "markdown",
     "checksum": "99a9cbba30a370a0dac742409557769e",
     "grade": false,
     "grade_id": "cell-11c7ac30610c8fc5",
     "locked": true,
     "schema_version": 3,
     "solution": false,
     "task": false
    }
   },
   "source": [
    "L'objectiu és el d'aconseguir una matriu d'enters que \"reprodueixi\" una imatge. El bloc de codi que teniu a sota carrega una imatge a memòria."
   ]
  },
  {
   "cell_type": "code",
   "execution_count": 67,
   "metadata": {
    "deletable": false,
    "editable": false,
    "nbgrader": {
     "cell_type": "code",
     "checksum": "a90aef9935f8d956bd208f668dea1a75",
     "grade": false,
     "grade_id": "cell-84a376d5c689a3bb",
     "locked": true,
     "schema_version": 3,
     "solution": false,
     "task": false
    }
   },
   "outputs": [],
   "source": [
    "import pylab, numpy, urllib.request\n",
    "\n",
    "url = 'https://upload.wikimedia.org/wikipedia/commons/4/4d/Uhlenbeck_Karen_1982_%28cropped%29.jpg'\n",
    "A = pylab.imread(urllib.request.urlopen(url), format='jpeg')\n",
    "\n",
    "# Per imatges en color. Per imatges en blanc i negre no cal fer res\n",
    "if len(A.shape) == 3:\n",
    "    A = .3 * A[:,:,0] + .59 * A[:,:,1] + .11 * A[:,:,2]\n",
    "\n",
    "# Volem els valors de la matriu entre 0 i 1\n",
    "A = 1/A.max() * A\n",
    "\n",
    "# Finalment, declarem una matriu en Sage.\n",
    "B = Matrix(A)"
   ]
  },
  {
   "cell_type": "markdown",
   "metadata": {
    "deletable": false,
    "editable": false,
    "nbgrader": {
     "cell_type": "markdown",
     "checksum": "f3a2d4d7cf088db419566e4884a24ab9",
     "grade": false,
     "grade_id": "cell-5c95d280568e69ba",
     "locked": true,
     "points": 1,
     "schema_version": 3,
     "solution": false,
     "task": true
    }
   },
   "source": [
    "Escriviu una funció que, donada una matriu i un nombre de files objectiu, retorni una nova matriu de tantes files com s'ha especificat (i amb el nombre de columnes proporcional a l'original), i on les entrades de la nova matriu siguin les mitjanes aritmètiques de les entrades d'un bloc de la matriu original."
   ]
  },
  {
   "cell_type": "code",
   "execution_count": 68,
   "metadata": {},
   "outputs": [],
   "source": [
    "def reduce_resolution(A, nrows, distort=1.0):\n",
    "    # First, crop the image to have multiples in each direction\n",
    "    qx, rx = ZZ(A.nrows()).quo_rem(nrows)\n",
    "    ncols = ZZ((distort * A.ncols() * nrows / A.nrows()).round())\n",
    "    qy, ry = ZZ(A.ncols()).quo_rem(ncols)\n",
    "    x0 = rx // 2\n",
    "    y0 = ry // 2\n",
    "    A = A.submatrix(x0, y0, nrows * qx, ncols * qy)\n",
    "    B = Matrix(RR, nrows, ncols, 0)\n",
    "    for i in range(nrows):\n",
    "        for j in range(ncols):\n",
    "            # Compute the average value of the entries in the block\n",
    "            Aij = A.submatrix(qx * i, qy * j, qx, qy)\n",
    "            v = Aij.list()\n",
    "            B[i, j] = sum(v) / len(v)\n",
    "    return B"
   ]
  },
  {
   "cell_type": "markdown",
   "metadata": {
    "deletable": false,
    "editable": false,
    "nbgrader": {
     "cell_type": "markdown",
     "checksum": "6c7ae0f7729c998dee2e61f0c49d7cee",
     "grade": false,
     "grade_id": "cell-52646fa1f8471966",
     "locked": true,
     "schema_version": 3,
     "solution": false,
     "task": false
    }
   },
   "source": [
    "El següent bloc de codi inicialitza una llista (Python 'list') on cada element és una parella (Python 'tuple') `(t, i)`, amb `t` el percentatge aproximat de píxels negres del dígit `i`.\n",
    "La llista s'ordena per ordre creixent de `t`."
   ]
  },
  {
   "cell_type": "code",
   "execution_count": 69,
   "metadata": {
    "deletable": false,
    "editable": false,
    "nbgrader": {
     "cell_type": "code",
     "checksum": "ad7a7ad3ad18eaf5d81e9b5f7ffdd4c2",
     "grade": false,
     "grade_id": "cell-70a93b58fc710bcd",
     "locked": true,
     "schema_version": 3,
     "solution": false,
     "task": false
    }
   },
   "outputs": [
    {
     "name": "stdout",
     "output_type": "stream",
     "text": [
      "0.326315789473684: \t 7\n",
      "0.347368421052632: \t 1\n",
      "0.421052631578947: \t 3\n",
      "0.431578947368421: \t 2\n",
      "0.515789473684211: \t 9\n",
      "0.526315789473684: \t 6\n",
      "0.589473684210526: \t 5\n",
      "0.673684210526316: \t 4\n",
      "0.684210526315789: \t 0\n",
      "0.726315789473684: \t 8\n"
     ]
    }
   ],
   "source": [
    "# Llista obtinguda de http://www.pouet.net/topic.php?which=8056&page=1\n",
    "numb = list(reversed(\"@MBHENR#KWXDFPQASUZbdehx*8Gm&04LOVYkpq5Tagns69owz$CIu23Jcfry%1v7l+it[] {}?j|()=~!-/<>\\\"^_';,:`. \"))\n",
    "table = sorted([(numb.index(str(i)) * 1.0/len(numb), i) for i in range(10)])\n",
    "for threshold, digit in table:\n",
    "    print(\"%s: \\t %s\"%(threshold, digit))"
   ]
  },
  {
   "cell_type": "markdown",
   "metadata": {
    "deletable": false,
    "editable": false,
    "nbgrader": {
     "cell_type": "markdown",
     "checksum": "f9e830634e378b228331aa2dc4ae378a",
     "grade": false,
     "grade_id": "cell-76f40d591a460456",
     "locked": true,
     "points": 1,
     "schema_version": 3,
     "solution": false,
     "task": true
    }
   },
   "source": [
    "Escriviu una funció que, donada una matriu i la taula anterior, retorni una nova matriu on cada entrada conté un dígit del 0 al 9 corresponent al valor de `t` que tingui més proper."
   ]
  },
  {
   "cell_type": "code",
   "execution_count": 70,
   "metadata": {},
   "outputs": [],
   "source": [
    "def assign_digit(x, table):\n",
    "    for r, out in table:\n",
    "        if r > x:\n",
    "            return out\n",
    "    return table[-1][1]"
   ]
  },
  {
   "cell_type": "markdown",
   "metadata": {
    "deletable": false,
    "editable": false,
    "nbgrader": {
     "cell_type": "markdown",
     "checksum": "0490bf953463490b73f5cb5560e02d7b",
     "grade": false,
     "grade_id": "cell-78da338301fc6057",
     "locked": true,
     "points": 1,
     "schema_version": 3,
     "solution": false,
     "task": true
    }
   },
   "source": [
    "Fent servir les funcions anteriors, obtingueu una matriu de 80 files amb entrades enteres entre 0 i 9 i enganxeu el resultat a ``www.editpad.org``."
   ]
  },
  {
   "cell_type": "code",
   "execution_count": 71,
   "metadata": {},
   "outputs": [
    {
     "name": "stdout",
     "output_type": "stream",
     "text": [
      "[8 8 8 8 8 8 8 8 8 8 8 8 8 8 8 8 8 4 3 3 3 3 9 4 4 4 4 5 9 6 5 5 8 8 8 8 8 8 4 9 3 1 7 7 7 9 8 8 8 8 8 8 8 8 8 8 8 8 8 8 8 8 8 8 8 8 8 8 8 8 8 8 8 8 8 8 8 8 0 4]\n",
      "[8 8 8 8 8 8 8 8 8 8 8 8 8 8 8 8 8 8 8 8 8 8 8 8 8 8 8 8 8 8 8 8 8 8 8 8 8 5 9 3 3 7 7 7 1 9 8 8 8 8 8 8 8 8 8 8 8 8 8 8 8 8 8 8 8 8 8 8 8 8 8 8 8 8 8 8 8 8 8 8]\n",
      "[8 8 8 8 8 8 8 8 8 8 8 8 8 8 8 8 8 8 8 8 8 8 8 8 8 8 8 8 8 8 8 8 8 8 8 8 8 3 3 1 7 7 7 7 1 9 8 8 8 8 8 8 8 8 8 8 8 8 8 8 8 8 4 8 8 8 8 8 8 8 8 8 8 8 8 8 8 8 8 8]\n",
      "[8 8 8 8 8 8 8 8 8 8 8 8 8 8 8 8 8 8 8 8 8 8 8 8 8 8 8 8 8 8 8 8 8 8 8 8 4 1 7 7 7 7 7 7 1 6 8 8 8 8 8 8 8 8 8 8 8 8 8 8 8 0 9 8 8 8 8 8 8 8 8 8 8 8 8 8 8 8 8 8]\n",
      "[8 8 8 8 8 8 8 8 8 8 8 8 8 8 8 8 8 8 8 8 8 8 8 8 8 8 8 8 8 8 8 8 8 8 8 8 5 7 7 7 7 7 7 7 7 9 8 8 8 8 8 8 8 8 8 8 8 8 8 8 8 5 2 5 8 8 8 8 8 8 8 8 8 8 8 8 8 8 8 0]\n",
      "[8 8 8 8 8 8 8 8 8 8 8 8 8 8 8 8 8 8 8 8 8 8 8 8 8 8 8 8 8 8 8 8 8 8 8 8 9 7 7 7 7 7 7 7 1 9 8 8 8 8 8 8 8 8 8 8 8 8 8 8 8 9 3 9 8 8 8 8 8 8 8 8 8 8 8 8 8 8 8 5]\n",
      "[8 8 8 8 8 8 8 8 8 8 8 8 8 8 8 8 8 8 8 8 8 8 8 8 8 8 8 8 8 8 8 8 8 8 8 8 2 7 7 7 7 7 7 7 3 5 8 8 8 8 8 8 8 8 8 0 5 5 5 8 8 9 3 3 4 8 8 8 8 8 8 8 8 8 8 8 8 4 4 5]\n",
      "[8 8 8 8 8 8 8 8 8 8 8 8 8 8 8 8 8 8 8 8 8 8 8 8 8 8 8 8 8 8 8 8 8 8 8 8 9 7 7 7 7 1 3 9 9 8 8 8 8 8 8 8 8 8 8 8 8 8 8 8 8 9 3 9 4 0 8 0 4 5 6 5 5 5 5 5 9 5 5 5]\n",
      "[8 8 8 8 8 8 8 8 8 8 8 8 8 8 8 8 8 8 8 8 8 8 8 8 8 8 8 8 4 8 8 8 8 8 8 8 9 7 9 4 8 8 8 8 8 8 8 8 8 8 8 8 8 8 8 8 8 8 8 8 8 3 3 3 9 5 6 9 9 3 3 3 3 3 3 3 3 3 9 5]\n",
      "[8 8 8 8 8 8 8 8 8 8 8 8 8 8 8 8 8 8 8 8 8 8 8 8 8 8 8 8 4 4 5 4 5 8 8 8 8 8 8 8 8 8 8 8 8 8 8 8 8 8 8 8 8 8 8 8 8 8 8 8 7 7 7 7 7 7 7 7 7 7 7 7 7 7 7 7 7 1 9 6]\n",
      "[8 8 8 8 8 8 8 8 8 8 8 8 8 8 8 8 8 8 8 8 8 8 8 8 8 8 4 9 9 0 8 8 8 8 8 8 8 8 8 8 8 8 8 8 8 8 8 8 8 8 8 8 8 8 4 5 4 8 4 7 7 7 7 7 7 7 7 7 7 7 7 7 7 7 7 7 7 7 2 6]\n",
      "[8 8 8 8 8 8 8 8 8 8 8 8 8 8 8 8 8 8 8 8 8 8 8 8 8 8 8 4 8 8 8 8 8 8 8 8 8 8 8 8 8 8 8 8 8 8 8 8 8 8 8 8 8 8 4 7 1 3 7 7 7 7 7 7 7 7 7 7 7 7 7 7 7 7 7 7 7 7 3 5]\n",
      "[8 8 8 8 8 8 8 8 8 8 8 8 8 8 8 8 8 8 8 8 8 8 8 8 8 8 8 8 8 8 8 8 8 8 8 8 8 8 8 8 8 8 8 8 8 8 8 8 8 8 8 8 8 8 8 9 7 7 7 7 7 7 7 7 7 7 7 7 7 7 7 7 7 7 7 7 7 7 3 5]\n",
      "[8 8 8 8 8 8 8 8 8 8 8 8 8 8 8 8 8 8 8 8 8 8 4 8 8 8 8 8 8 8 8 8 8 8 8 8 8 8 8 8 8 8 8 8 8 8 8 8 8 8 8 8 8 8 8 8 7 7 7 7 7 7 7 7 7 7 7 7 7 7 7 7 7 7 7 7 7 7 3 5]\n",
      "[8 8 8 8 8 8 8 8 8 8 8 8 8 8 8 8 8 8 8 8 8 8 8 8 8 8 8 8 8 8 8 8 8 8 8 8 8 8 8 8 8 8 8 8 8 8 8 8 8 8 8 8 8 8 8 8 5 7 7 7 7 7 7 7 7 7 7 7 7 7 7 7 7 7 7 7 7 7 3 8]\n",
      "[8 8 8 8 8 8 8 8 8 8 8 8 8 8 8 8 8 8 8 8 8 8 8 8 8 8 8 8 8 8 8 8 8 8 8 8 8 8 8 8 8 8 8 8 8 8 8 8 8 8 8 8 8 8 8 8 8 7 7 7 7 7 7 7 7 7 7 7 7 7 7 7 7 7 7 7 7 3 4 8]\n",
      "[8 8 8 8 8 8 8 8 8 8 8 8 8 8 8 8 8 8 8 8 8 7 8 8 8 8 8 8 8 8 8 8 8 8 8 8 8 8 8 8 8 8 8 8 8 8 8 8 8 8 8 8 8 8 8 8 8 3 7 7 7 7 7 7 7 7 1 3 3 3 3 9 4 8 8 8 8 8 8 8]\n",
      "[8 8 8 8 8 8 8 8 8 8 8 8 8 8 8 8 8 8 8 8 8 7 8 8 8 8 8 8 8 8 8 8 8 8 8 8 8 8 8 8 8 8 8 8 8 8 8 8 8 8 8 8 8 8 8 8 8 8 7 3 9 9 4 8 8 8 8 8 8 8 8 8 8 8 8 8 8 8 8 8]\n",
      "[8 8 8 8 8 8 8 8 8 8 8 8 8 8 8 8 8 8 8 8 8 7 8 8 8 8 8 8 8 8 8 8 8 8 8 8 8 8 8 8 8 8 8 8 8 8 8 8 8 8 8 8 8 8 8 8 8 8 8 8 8 8 8 8 8 8 8 8 8 8 8 8 8 8 8 8 8 8 8 8]\n",
      "[8 8 8 8 8 8 8 8 8 8 8 8 8 8 8 8 8 8 8 8 8 4 8 8 8 8 8 8 8 8 8 8 8 8 8 8 8 8 8 8 8 8 8 8 8 8 8 8 8 8 8 8 8 8 8 8 8 8 8 8 8 8 8 8 8 8 8 8 8 8 8 8 8 8 8 8 8 8 8 8]\n",
      "[8 8 8 8 8 8 8 8 8 8 8 8 8 8 8 8 8 8 8 8 4 4 8 4 8 8 8 8 8 8 8 8 5 3 1 7 1 9 5 8 8 8 8 8 8 8 8 8 8 8 8 8 8 8 8 8 8 8 8 8 8 8 8 8 8 8 8 8 8 8 8 8 8 8 8 8 8 8 8 8]\n",
      "[8 8 8 8 8 8 8 8 8 8 8 8 8 8 8 8 8 8 8 8 4 9 8 8 4 8 8 8 8 8 8 9 7 7 7 7 7 7 7 8 8 8 8 8 8 8 8 8 8 8 8 8 8 8 8 8 8 8 8 8 8 8 8 8 8 8 8 8 8 8 4 8 8 8 8 4 4 9 4 8]\n",
      "[8 8 8 8 8 8 8 8 8 8 8 8 8 8 8 8 8 8 8 9 5 9 8 8 8 4 8 8 8 8 8 3 7 7 7 7 7 7 7 8 8 8 8 8 8 8 8 8 8 8 8 8 8 8 8 8 8 8 8 8 8 8 8 8 8 8 8 8 8 4 9 8 8 8 3 7 1 3 4 8]\n",
      "[8 8 8 8 8 8 8 8 8 8 8 8 8 8 8 8 8 8 8 7 3 9 4 8 8 8 8 8 8 8 8 9 7 7 7 7 7 7 7 8 8 8 8 8 8 8 8 8 8 8 8 8 8 8 8 8 8 8 8 8 8 8 8 8 8 8 8 8 8 4 3 8 8 8 7 7 7 3 4 8]\n",
      "[8 8 8 8 8 8 8 8 8 8 8 8 8 8 8 8 8 8 8 7 7 3 8 8 8 8 8 8 8 8 8 4 7 7 7 7 7 7 1 5 8 8 8 8 8 8 8 8 8 8 8 8 8 8 8 8 8 8 8 8 8 8 8 8 8 8 8 8 8 4 3 8 8 5 7 7 1 9 4 8]\n",
      "[8 8 8 8 8 8 8 8 8 8 8 8 8 8 8 8 8 8 8 7 7 8 8 8 8 8 8 8 8 8 8 8 7 7 7 7 7 7 7 5 9 8 8 8 8 8 8 8 8 8 8 8 8 8 8 8 8 8 8 8 8 8 8 8 8 8 8 8 8 4 1 8 8 3 7 7 3 9 5 8]\n",
      "[8 8 8 8 8 8 8 8 8 8 8 8 8 8 8 8 8 8 8 4 8 8 8 8 8 8 4 8 8 8 8 4 7 7 7 7 7 7 7 5 4 8 8 8 8 8 8 8 8 8 8 8 8 8 8 8 8 8 8 8 8 8 8 8 8 8 8 8 8 9 7 0 8 3 7 7 5 9 9 8]\n",
      "[8 8 8 8 8 8 8 8 8 8 8 8 8 8 8 8 8 8 8 9 4 8 8 8 8 8 3 9 9 8 8 7 7 7 7 7 7 7 7 9 9 2 6 8 8 8 8 8 8 8 8 8 8 8 8 8 8 8 8 8 8 8 8 8 8 8 8 8 8 9 7 4 8 4 7 9 8 6 2 8]\n",
      "[8 8 8 8 8 8 8 8 8 8 8 8 8 8 8 8 8 8 8 5 8 8 8 8 8 4 7 4 8 8 9 7 7 7 7 7 7 7 7 7 4 4 4 4 8 8 8 8 8 8 8 8 8 8 8 8 8 8 8 8 8 8 8 8 8 8 8 8 8 8 3 8 8 8 8 8 8 4 3 8]\n",
      "[8 8 8 8 8 8 8 8 8 8 8 8 8 8 8 8 8 8 8 8 8 8 8 8 8 6 7 9 2 7 7 7 7 7 7 7 7 7 7 7 7 1 1 7 1 3 2 1 7 7 9 8 8 8 8 8 8 8 8 8 8 8 8 8 8 8 8 8 8 8 4 8 8 8 8 8 8 4 3 8]\n",
      "[8 8 8 8 8 8 8 8 8 8 8 8 8 8 8 8 8 8 8 8 5 8 8 5 8 9 7 7 7 7 7 7 7 7 7 7 7 7 7 7 7 7 7 7 7 7 7 7 7 7 7 1 8 8 8 8 8 8 8 8 8 8 8 8 8 8 8 8 8 8 8 8 8 8 8 8 8 8 3 8]\n",
      "[8 8 8 8 8 8 8 8 8 8 8 8 8 8 8 8 8 8 8 6 8 8 3 4 8 9 7 7 7 7 7 7 7 7 7 7 7 7 7 7 7 7 7 7 7 7 7 7 3 5 4 5 4 8 8 8 8 8 8 8 8 8 8 8 8 8 8 8 8 8 6 5 8 8 8 8 8 8 3 8]\n",
      "[8 8 8 8 8 8 8 8 8 8 8 8 8 8 8 4 3 3 4 9 5 0 1 8 8 5 7 7 7 7 7 7 7 7 7 7 7 7 7 7 7 7 7 7 7 7 3 8 8 8 8 8 8 8 8 8 8 8 8 8 8 8 8 8 8 8 8 8 8 8 3 3 4 8 8 8 8 8 1 8]\n",
      "[8 8 8 8 8 8 8 8 8 8 8 8 8 8 8 7 7 7 9 3 8 5 2 8 8 4 7 7 7 7 7 1 3 3 3 7 7 7 7 7 7 7 7 7 9 8 8 8 8 8 8 8 8 8 8 8 8 8 8 8 8 8 8 8 8 8 8 8 8 8 7 1 9 8 8 8 8 8 1 8]\n",
      "[8 8 8 8 8 8 8 8 8 8 8 8 8 8 8 7 7 7 3 4 8 4 9 8 8 8 7 7 7 7 5 8 8 8 8 8 8 8 6 7 7 7 3 5 8 8 8 8 4 8 8 8 8 8 8 8 8 8 8 8 8 8 8 8 8 8 8 8 8 8 7 7 3 0 8 8 8 8 7 8]\n",
      "[8 8 8 8 8 8 8 8 8 8 8 8 8 8 8 7 7 7 9 8 8 8 8 8 8 8 7 7 7 7 3 3 3 3 5 8 8 5 9 7 7 7 3 8 8 8 8 8 8 8 8 8 8 8 2 8 8 8 8 8 8 8 8 8 8 8 8 8 8 8 7 7 3 5 4 8 8 8 7 4]\n",
      "[8 8 8 8 8 8 8 8 8 8 8 8 8 8 8 4 7 7 8 8 8 8 8 8 8 8 7 7 7 7 7 2 9 8 8 8 8 8 5 7 7 7 3 8 8 8 5 5 4 8 8 8 9 7 7 5 8 8 8 8 8 8 8 8 8 8 8 8 8 8 7 7 1 9 5 8 8 8 7 4]\n",
      "[8 8 8 8 8 8 8 8 8 8 8 8 8 8 8 8 8 5 0 4 8 8 8 8 8 8 7 7 7 7 3 4 8 5 8 8 5 8 2 7 7 7 3 8 8 0 5 9 9 5 9 9 3 7 7 3 8 8 8 8 8 8 8 8 8 8 8 8 8 8 7 7 1 9 9 8 8 4 7 4]\n",
      "[8 8 8 8 8 8 8 8 8 8 8 8 8 8 8 8 8 8 9 5 8 8 8 8 8 8 7 7 7 7 7 7 7 7 3 9 5 9 1 7 7 7 3 8 8 4 9 9 9 9 3 7 7 7 7 7 8 8 8 8 8 8 8 8 8 8 8 8 8 8 7 7 3 9 9 8 8 3 7 5]\n",
      "[8 8 8 8 8 8 8 8 8 8 8 8 8 8 8 8 8 8 1 8 8 8 8 8 8 4 7 7 7 7 7 7 7 7 7 1 3 7 7 7 7 7 7 8 8 5 3 3 7 7 7 7 7 7 7 7 8 8 8 8 8 8 8 8 8 8 8 8 8 8 7 7 9 8 5 8 8 7 7 5]\n",
      "[8 8 8 8 8 8 8 8 8 8 8 8 8 8 8 8 8 8 7 8 8 8 8 8 8 4 7 7 7 7 7 7 7 7 7 7 7 7 7 7 7 7 7 4 8 4 3 1 7 7 7 7 7 7 7 3 8 8 8 8 8 8 8 8 8 8 8 8 8 8 9 9 8 8 8 8 8 3 7 5]\n",
      "[8 8 8 8 8 8 8 8 8 8 8 8 8 8 8 8 8 8 7 9 8 8 8 8 8 5 7 7 7 7 7 7 7 7 7 7 7 7 7 7 7 7 7 9 8 8 4 3 7 7 7 7 7 7 7 9 8 8 8 8 8 8 8 8 8 8 8 8 8 8 8 4 8 8 8 8 8 5 7 6]\n",
      "[8 8 8 8 8 8 8 8 8 8 8 8 8 8 8 8 8 4 7 6 8 8 8 8 8 5 7 7 7 7 7 7 7 7 7 7 7 7 7 7 7 7 7 3 0 8 8 4 3 7 7 7 7 7 3 8 8 8 8 8 8 8 8 8 8 8 8 8 8 8 8 8 8 8 8 8 8 8 7 5]\n",
      "[8 8 8 8 8 8 8 8 8 8 8 8 8 8 8 8 8 8 7 8 8 8 8 8 8 7 7 7 7 7 7 7 7 7 7 7 7 7 7 7 7 7 7 3 8 8 0 8 9 3 7 7 7 1 5 8 8 8 8 8 8 8 8 8 8 9 8 8 8 8 8 8 8 8 8 8 8 8 7 4]\n",
      "[8 8 8 8 8 8 8 8 8 8 8 8 8 8 8 8 8 8 4 8 8 8 8 8 8 7 7 7 7 7 7 7 7 7 7 7 1 7 7 7 7 7 7 5 8 8 8 4 3 3 1 1 1 3 8 8 8 8 8 8 8 8 8 8 8 9 8 8 8 8 8 8 8 8 8 8 8 8 7 5]\n",
      "[8 8 8 8 8 8 8 8 8 8 8 8 8 8 8 8 8 0 3 8 8 8 8 8 8 9 7 7 7 7 7 7 7 7 7 3 1 7 7 1 7 7 3 8 8 8 8 5 9 9 3 3 3 9 8 8 8 8 8 8 8 8 8 8 8 3 5 8 8 8 8 8 8 8 8 8 8 8 7 5]\n",
      "[8 8 8 8 8 8 8 8 8 8 8 8 8 8 8 8 8 8 3 8 4 8 8 8 8 8 7 7 7 7 7 7 7 7 7 3 7 7 7 7 7 7 1 4 5 5 5 5 5 5 9 9 1 9 8 8 8 8 8 8 8 8 8 8 8 9 3 8 8 8 8 8 8 8 0 8 8 9 7 5]\n",
      "[8 8 8 8 8 8 8 8 8 8 8 8 8 8 8 8 8 8 0 8 8 8 8 8 8 8 8 7 7 7 7 7 7 7 3 7 7 7 7 7 7 7 3 3 3 9 5 4 8 8 8 9 7 9 8 8 8 8 8 8 8 8 8 8 8 8 4 8 8 8 8 8 8 8 9 7 7 7 7 5]\n",
      "[8 8 8 8 8 8 8 8 8 8 8 8 8 8 8 8 8 8 8 9 8 8 8 8 8 8 8 4 7 7 7 7 7 7 7 7 7 7 7 7 7 7 7 7 7 3 9 8 8 8 5 3 7 5 8 8 8 8 8 8 8 8 8 8 8 8 8 8 8 8 8 8 8 8 1 7 7 7 7 4]\n",
      "[8 8 8 8 8 8 8 8 8 8 8 8 8 8 8 8 8 8 8 8 8 8 8 8 8 8 8 8 7 7 7 7 7 7 7 7 7 7 7 7 7 7 7 3 4 8 8 8 8 8 2 7 7 8 8 8 8 8 8 8 8 8 8 8 8 8 8 8 8 8 8 8 8 8 5 3 7 7 7 8]\n",
      "[8 8 8 8 8 8 8 8 8 8 8 8 4 8 8 8 8 8 8 8 8 8 8 8 8 8 8 8 7 7 7 7 7 7 7 7 7 7 7 7 7 3 9 6 9 9 8 8 8 4 5 7 3 5 8 8 8 8 8 8 8 8 8 8 8 8 8 8 8 8 8 8 8 8 8 8 5 3 1 8]\n",
      "[8 8 8 8 8 8 8 8 8 8 4 3 7 7 7 7 7 3 6 8 8 8 8 8 8 8 8 8 9 7 7 7 7 7 7 7 7 7 7 7 7 7 7 7 3 9 8 8 4 8 9 1 3 9 8 8 8 8 8 8 8 8 8 8 8 8 8 8 8 8 8 8 8 8 8 8 8 8 8 8]\n",
      "[7 3 3 3 1 7 7 3 3 3 1 7 7 7 7 7 7 7 9 8 8 8 5 8 8 8 8 8 8 7 7 7 7 7 7 7 7 7 7 7 7 7 7 9 5 8 4 9 5 9 3 3 3 4 8 8 8 8 8 8 8 8 8 8 8 8 8 8 8 8 8 8 8 8 8 8 8 8 8 8]\n",
      "[7 7 7 7 7 7 7 7 7 7 7 7 7 7 7 7 7 5 9 8 8 8 9 5 8 8 8 8 8 3 7 7 7 7 7 7 7 7 7 7 7 7 7 3 3 3 3 3 3 3 9 5 9 8 8 8 8 8 8 8 8 8 8 8 8 8 8 8 8 8 8 8 8 8 8 8 8 8 8 8]\n",
      "[7 7 7 7 7 7 7 7 7 7 7 7 7 7 7 7 3 4 8 8 8 8 4 4 8 8 8 8 8 5 7 7 7 7 7 7 7 7 7 7 7 7 7 7 7 3 9 3 3 9 0 8 4 8 8 8 8 8 8 8 8 8 8 8 8 8 8 8 8 8 8 8 8 8 8 8 8 8 8 8]\n",
      "[7 7 7 7 7 1 3 3 3 9 5 4 0 8 6 3 8 8 8 8 8 8 8 8 8 8 8 8 8 5 7 7 7 7 7 7 7 7 7 7 7 7 7 7 7 3 3 1 3 4 8 8 8 8 8 8 8 8 8 8 8 8 8 8 8 8 9 4 8 8 8 8 8 8 8 8 8 8 8 8]\n",
      "[9 4 8 8 8 8 8 8 8 8 8 8 8 8 8 9 8 8 8 8 8 8 8 8 8 8 8 8 8 5 7 7 7 7 7 7 7 7 7 7 7 7 7 7 7 7 3 1 9 8 8 8 8 8 8 8 8 8 8 8 8 8 8 8 4 7 7 7 7 3 8 8 8 8 8 8 8 8 8 8]\n",
      "[4 8 8 8 8 8 8 8 8 8 8 8 8 8 8 8 6 8 8 8 8 8 8 8 8 8 8 8 8 4 7 7 7 7 7 7 7 7 7 7 7 7 7 7 7 1 3 3 5 8 8 8 8 8 8 8 8 8 8 8 8 8 8 8 7 7 7 7 7 7 9 8 8 8 8 8 8 8 9 5]\n",
      "[4 8 8 8 8 8 8 8 8 8 8 8 8 8 8 8 9 4 8 8 8 8 8 8 8 8 8 8 8 4 7 7 7 7 7 7 7 7 7 7 7 7 7 7 7 1 3 9 5 0 8 8 8 8 8 8 8 8 8 8 8 8 8 8 7 7 7 7 7 7 3 8 8 8 8 8 8 3 7 7]\n",
      "[5 8 8 8 8 8 8 8 8 8 8 8 8 8 8 3 2 8 8 8 8 8 8 8 8 8 8 8 8 4 7 7 7 7 7 7 7 7 7 7 7 7 7 7 1 3 3 9 4 8 8 8 8 8 8 8 8 8 8 8 8 8 8 8 7 7 7 7 7 7 1 9 8 8 8 8 5 7 7 7]\n",
      "[5 8 8 8 8 8 8 8 8 8 8 8 8 8 4 3 8 8 8 8 8 8 8 8 8 8 8 8 8 0 7 7 7 7 7 7 7 7 7 7 7 7 7 1 3 1 3 9 4 8 8 8 8 8 8 8 8 8 8 8 8 8 8 8 1 7 7 7 7 7 7 3 5 8 8 8 5 7 7 7]\n",
      "[5 8 8 8 8 8 8 8 8 8 8 8 8 8 5 5 8 8 8 8 8 8 8 8 8 8 8 8 8 4 7 7 7 7 7 7 7 7 7 7 7 7 7 7 7 7 1 9 4 8 8 8 8 8 8 8 8 8 8 8 8 8 8 8 6 7 7 7 7 7 3 9 9 5 8 8 8 3 7 7]\n",
      "[9 8 8 8 8 8 8 8 8 8 8 8 8 8 5 9 8 5 8 8 8 8 8 8 8 8 8 8 8 4 7 7 7 7 7 7 7 7 7 7 7 7 7 7 7 7 3 9 4 4 4 8 8 8 8 8 8 8 8 8 8 8 8 8 8 7 7 7 7 7 1 7 7 1 9 4 5 7 7 7]\n",
      "[2 8 8 8 8 8 8 8 8 8 9 9 3 1 7 1 5 9 1 7 5 8 8 8 8 8 8 8 8 5 7 7 7 7 7 7 7 7 7 7 7 7 7 7 7 7 3 9 4 5 4 8 8 8 8 8 8 8 8 8 8 8 8 8 8 9 7 7 7 7 7 7 7 7 7 7 7 7 7 7]\n",
      "[7 7 1 7 7 7 1 9 2 3 7 7 7 7 7 7 7 7 7 7 7 8 8 4 8 8 8 8 8 1 7 7 7 7 7 7 7 7 7 7 7 7 7 7 7 7 3 6 4 6 8 8 8 8 8 8 3 1 1 3 5 4 8 8 8 5 7 7 7 7 7 7 7 7 7 7 7 7 7 7]\n",
      "[7 7 7 7 7 7 7 7 7 7 7 7 7 7 7 7 7 7 7 7 7 3 4 8 8 8 8 5 3 7 7 7 7 7 7 7 7 7 7 7 7 7 7 7 7 7 3 5 5 5 0 8 8 8 8 5 9 7 7 7 7 7 7 9 5 3 7 7 7 7 7 7 7 7 7 7 7 7 7 7]\n",
      "[7 7 7 7 7 7 7 7 7 7 7 7 7 7 7 7 7 7 7 7 7 7 9 5 3 3 4 2 7 7 7 7 7 7 7 7 7 7 7 7 7 7 7 7 7 7 3 5 9 5 5 4 8 4 5 3 1 1 7 7 7 7 7 7 7 7 7 7 7 7 7 7 7 7 7 7 7 7 7 7]\n",
      "[7 7 7 7 7 7 7 7 7 7 7 7 7 7 7 7 7 7 7 7 7 7 7 3 7 7 3 7 7 7 7 7 7 7 7 7 7 7 7 7 7 7 7 7 7 1 3 9 6 5 9 5 5 9 9 7 7 7 7 7 7 7 7 7 7 7 7 7 7 7 7 7 7 7 7 7 7 7 7 4]\n",
      "[3 3 3 1 7 7 7 7 7 7 7 7 7 7 7 7 7 7 7 7 7 7 7 7 7 7 7 1 7 7 7 7 7 7 7 7 7 7 7 7 7 7 7 7 7 7 3 9 9 9 3 9 3 3 3 7 7 7 7 7 7 7 7 7 7 7 7 7 7 7 7 7 7 7 7 7 7 3 5 8]\n",
      "[7 3 3 3 3 1 7 7 7 7 7 7 7 7 7 7 7 7 7 7 7 7 7 7 7 7 7 7 7 7 7 7 7 7 7 7 7 7 7 7 7 7 7 7 7 1 3 3 9 3 3 3 3 7 7 7 7 7 7 7 7 7 7 7 7 7 7 7 7 7 7 7 7 7 1 2 5 4 8 8]\n",
      "[7 7 1 3 3 7 7 7 7 7 7 7 7 7 7 7 7 7 7 7 7 7 7 7 7 7 7 7 7 7 7 7 7 7 7 7 7 7 7 7 7 7 7 7 7 7 1 1 3 7 7 7 7 7 7 7 7 7 7 7 7 7 7 7 7 7 7 7 7 7 7 7 7 7 7 9 8 8 8 8]\n",
      "[1 1 1 7 7 7 7 7 7 7 7 7 7 7 7 7 7 7 7 7 7 7 7 7 7 7 7 7 7 7 7 7 7 7 7 7 7 7 7 7 7 7 7 7 7 7 7 7 7 7 7 7 7 7 7 7 7 7 7 7 7 7 7 7 7 7 7 7 7 7 7 7 7 7 7 7 8 8 8 8]\n",
      "[3 3 1 7 7 7 7 7 7 7 7 7 7 7 7 7 7 7 7 7 7 7 7 7 7 7 7 7 7 7 7 7 7 7 7 7 7 7 7 7 7 7 7 7 7 7 7 7 7 7 7 7 7 7 7 7 7 7 7 7 7 7 7 7 7 7 7 7 7 7 7 7 7 7 7 7 1 8 8 8]\n",
      "[1 7 7 7 7 7 7 7 7 7 7 7 7 7 7 7 7 7 7 7 7 7 7 7 7 7 7 7 7 7 7 7 7 7 7 7 7 7 7 7 7 7 7 7 7 7 7 7 7 7 7 7 7 7 7 7 7 7 7 7 7 7 7 7 7 7 7 7 7 7 7 7 7 7 7 7 7 5 8 8]\n",
      "[7 7 7 7 7 7 7 7 7 7 7 7 7 7 7 7 7 7 7 7 7 7 7 7 7 7 7 7 7 7 7 7 7 7 7 7 7 7 7 7 7 7 7 7 7 7 7 7 7 7 7 7 7 7 7 7 7 7 7 7 7 7 7 7 7 7 7 7 7 7 7 7 7 7 7 7 7 7 8 8]\n",
      "[7 7 7 7 7 7 7 7 7 7 7 7 7 7 7 7 7 7 7 7 7 7 7 7 7 7 7 7 7 7 7 7 7 7 7 7 7 7 7 7 7 7 7 7 7 7 7 7 7 7 7 7 7 7 7 7 7 7 7 7 7 7 7 7 7 7 7 7 7 7 7 7 7 7 7 7 7 7 3 9]\n",
      "[7 7 7 7 7 7 7 7 7 7 7 7 7 7 7 7 7 7 7 7 7 7 7 7 7 7 7 7 7 7 7 7 7 7 7 7 7 7 7 7 7 7 7 7 7 7 7 7 7 7 7 7 7 7 7 7 7 7 7 7 7 7 7 7 7 7 7 7 7 7 7 7 7 7 7 7 7 7 7 7]\n",
      "[7 7 7 7 7 7 7 7 7 7 7 7 7 7 7 7 7 7 7 7 7 7 7 7 7 7 7 7 7 7 7 7 7 7 7 7 7 7 7 7 7 7 7 7 7 7 7 7 7 7 7 7 7 7 7 7 7 7 7 7 7 7 7 7 7 7 7 7 7 7 7 7 7 7 7 7 7 7 7 7]\n",
      "[7 7 7 7 7 7 7 7 7 7 7 7 7 7 7 7 7 7 7 7 7 7 7 7 7 7 7 7 7 7 7 7 7 7 7 7 7 7 7 7 7 7 7 7 7 7 7 7 7 7 7 7 7 7 7 7 7 7 7 7 7 7 7 7 7 7 7 7 7 7 7 7 7 7 7 7 7 7 7 7]\n",
      "[7 7 7 7 7 7 7 7 7 7 7 7 7 7 7 7 7 7 7 7 7 7 7 7 7 7 7 7 7 7 7 7 7 7 7 7 7 7 7 7 7 7 7 7 7 7 7 7 7 7 7 7 7 7 7 7 7 7 7 7 7 7 7 7 7 7 7 7 7 7 7 7 7 7 7 7 7 7 7 7]\n"
     ]
    }
   ],
   "source": [
    "C = reduce_resolution(B, 80, 1.0)\n",
    "D = C.apply_map(lambda x:1-x).apply_map(lambda x:assign_digit(x,table))\n",
    "print(D.str())"
   ]
  },
  {
   "cell_type": "code",
   "execution_count": null,
   "metadata": {},
   "outputs": [],
   "source": []
  },
  {
   "cell_type": "code",
   "execution_count": null,
   "metadata": {},
   "outputs": [],
   "source": []
  },
  {
   "cell_type": "code",
   "execution_count": null,
   "metadata": {},
   "outputs": [],
   "source": []
  },
  {
   "cell_type": "code",
   "execution_count": 30,
   "metadata": {},
   "outputs": [],
   "source": [
    "R = QQ['t']"
   ]
  },
  {
   "cell_type": "code",
   "execution_count": 42,
   "metadata": {},
   "outputs": [
    {
     "data": {
      "text/plain": [
       "5*t^3 + 4"
      ]
     },
     "execution_count": 42,
     "metadata": {},
     "output_type": "execute_result"
    }
   ],
   "source": [
    "R([4,0,0,5]) # 4 + 0 * t + 0 * t^2 + 5 * t^3"
   ]
  },
  {
   "cell_type": "code",
   "execution_count": 39,
   "metadata": {},
   "outputs": [],
   "source": [
    "PolynomialRing?"
   ]
  },
  {
   "cell_type": "code",
   "execution_count": 33,
   "metadata": {},
   "outputs": [
    {
     "data": {
      "text/plain": [
       "Univariate Polynomial Ring in t over Rational Field"
      ]
     },
     "execution_count": 33,
     "metadata": {},
     "output_type": "execute_result"
    }
   ],
   "source": [
    "f.parent()"
   ]
  },
  {
   "cell_type": "code",
   "execution_count": 35,
   "metadata": {},
   "outputs": [
    {
     "data": {
      "text/plain": [
       "0"
      ]
     },
     "execution_count": 35,
     "metadata": {},
     "output_type": "execute_result"
    }
   ],
   "source": [
    "f.degree()"
   ]
  },
  {
   "cell_type": "code",
   "execution_count": 40,
   "metadata": {},
   "outputs": [],
   "source": [
    "_.<u> = QQ[]"
   ]
  },
  {
   "cell_type": "code",
   "execution_count": 41,
   "metadata": {},
   "outputs": [
    {
     "data": {
      "text/plain": [
       "Univariate Polynomial Ring in u over Rational Field"
      ]
     },
     "execution_count": 41,
     "metadata": {},
     "output_type": "execute_result"
    }
   ],
   "source": [
    "u.parent()"
   ]
  },
  {
   "cell_type": "code",
   "execution_count": 21,
   "metadata": {},
   "outputs": [
    {
     "data": {
      "text/plain": [
       "True"
      ]
     },
     "execution_count": 21,
     "metadata": {},
     "output_type": "execute_result"
    }
   ],
   "source": [
    "u.parent() == M"
   ]
  },
  {
   "cell_type": "code",
   "execution_count": 26,
   "metadata": {},
   "outputs": [
    {
     "data": {
      "text/plain": [
       "<class 'sage.symbolic.expression.Expression'>"
      ]
     },
     "execution_count": 26,
     "metadata": {},
     "output_type": "execute_result"
    }
   ],
   "source": [
    "type(x)"
   ]
  },
  {
   "cell_type": "code",
   "execution_count": 27,
   "metadata": {},
   "outputs": [
    {
     "ename": "NameError",
     "evalue": "name 'y' is not defined",
     "output_type": "error",
     "traceback": [
      "\u001b[1;31m---------------------------------------------------------------------------\u001b[0m",
      "\u001b[1;31mNameError\u001b[0m                                 Traceback (most recent call last)",
      "\u001b[1;32m<ipython-input-27-74463a5214db>\u001b[0m in \u001b[0;36m<module>\u001b[1;34m\u001b[0m\n\u001b[1;32m----> 1\u001b[1;33m \u001b[0mtype\u001b[0m\u001b[1;33m(\u001b[0m\u001b[0my\u001b[0m\u001b[1;33m)\u001b[0m\u001b[1;33m\u001b[0m\u001b[1;33m\u001b[0m\u001b[0m\n\u001b[0m",
      "\u001b[1;31mNameError\u001b[0m: name 'y' is not defined"
     ]
    }
   ],
   "source": [
    "type(y)"
   ]
  },
  {
   "cell_type": "code",
   "execution_count": null,
   "metadata": {},
   "outputs": [],
   "source": []
  }
 ],
 "metadata": {
  "kernelspec": {
   "display_name": "SageMath 9.2",
   "language": "sage",
   "name": "sagemath"
  },
  "language_info": {
   "codemirror_mode": {
    "name": "ipython",
    "version": 3
   },
   "file_extension": ".py",
   "mimetype": "text/x-python",
   "name": "python",
   "nbconvert_exporter": "python",
   "pygments_lexer": "ipython3",
   "version": "3.8.6"
  }
 },
 "nbformat": 4,
 "nbformat_minor": 2
}
